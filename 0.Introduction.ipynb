{
 "cells": [
  {
   "cell_type": "markdown",
   "metadata": {},
   "source": [
    "- DBNO - 기절 시킨 적 플레이어의 수입니다.\n",
    "- Assists - 이 플레이어가 피해를 입힌 적 플레이어 중 동료에게 살해된 플레이어 수입니다.\n",
    "- boosts - 사용된 부스트 아이템 수 입니다.\n",
    "- DamageDealt - 가한 총 피해량입니다. 참고: 자신이 자신에게 입힌 피해는 차감됩니다.\n",
    "- headshotKills - 헤드샷으로 사망한 적 플레이어의 수입니다.\n",
    "- heals  - 사용된 치유 아이템의 수입니다.\n",
    "- Id  - 플레이어 아이디\n",
    "- killPlace - 죽인 적 플레이어 수의 경기 순위입니다.\n",
    "- killPoints - 플레이어의 킬 기반 외부 순위입니다. (이것을 킬만 중요한 Elo 순위라고 생각하십시오.) rankPoints에 -1 이외의 값이 있는 경우 killPoints의 0은 \"없음\"으로 처리되어야 합니다.\n",
    "- killStreaks - 짧은 시간에 죽인 적 플레이어의 최대 수입니다.\n",
    "- kills - 죽인 적 플레이어의 수.\n",
    "- longestKill  - 사망 시 사망한 플레이어와 플레이어 사이의 최장 거리입니다. 플레이어를 쓰러뜨리고 차를 몰고 가면 가장 긴 킬 통계가 나올 수 있으므로 이는 오해의 소지가 있습니다.\n",
    "- matchDuration - 게임 시간(초)입니다. -> 유저가 생존한 시간이 아닌, 해당 매치가 진행된 시간을 의미.\n",
    "- matchId - 일치를 식별하는 ID입니다. 훈련 세트와 테스트 세트 모두에 일치하는 항목이 없습니다.\n",
    "- matchType - 데이터의 출처인 게임 모드를 식별하는 문자열입니다. 표준 모드는 \"solo\", \"duo\", \"squad\", \"solo-fpp\", \"duo-fpp\" 및 \"squad-fpp\"입니다. 다른 모드는 이벤트 또는 사용자 지정 일치에서 가져온 것입니다.\n",
    "- rankPoints - 플레이어의 Elo와 같은 순위입니다. 이 순위는 일관성이 없으며 API의 다음 버전에서 더 이상 사용되지 않으므로 주의해서 사용하십시오. -1 값은 \"없음\"을 대신합니다.\n",
    "- revives - 이 플레이어가 팀원을 소생시킨 횟수입니다.\n",
    "- rideDistance - 미터로 측정한 차량의 총 이동 거리입니다.\n",
    "- roadKills - 차량에 있는 동안 킬 수입니다.\n",
    "- swimDistance - 미터로 측정한 수영으로 이동한 총 거리.\n",
    "- teamKills - 이 플레이어가 팀원을 죽인 횟수입니다.\n",
    "- vehicleDestroys - 파괴된 차량의 수입니다.\n",
    "- walkDistance - 미터로 측정한 도보로 이동한 총 거리.\n",
    "- WeaponAcquired - 획득한 무기의 수입니다.\n",
    "- winPoints - 승리 기반 플레이어의 외부 순위입니다. (이것을 승리만이 중요한 Elo 순위라고 생각하십시오.) rankPoints에 -1 이외의 값이 있는 경우 winPoints의 0은 \"없음\"으로 처리되어야 합니다.\n",
    "- groupId - 게임 내에서 팀을 식별하기 위한 ID입니다. 같은 팀의 플레이어가 다른 경기에서 플레이하는 경우 매번 다른 groupId를 갖습니다.\n",
    "- numGroups - 경기에서 데이터가 있는 그룹의 수입니다.\n",
    "- maxPlace - 경기에서 데이터가 있는 최악의 위치입니다. 데이터가 게재위치를 건너뛰는 경우가 있으므로 numGroups와 일치하지 않을 수 있습니다.\n",
    "\n",
    "**winPlacePerc - 예측 대상입니다. 이것은 백분위수 승리 배치로, 1은 1위, 0은 경기의 마지막 장소에 해당합니다. numGroups가 아닌 maxPlace에서 계산되므로 일치 항목에서 청크가 누락될 수 있습니다.**"
   ]
  }
 ],
 "metadata": {
  "kernelspec": {
   "display_name": "Python 3.10.4 64-bit",
   "language": "python",
   "name": "python3"
  },
  "language_info": {
   "name": "python",
   "version": "3.10.4"
  },
  "orig_nbformat": 4,
  "vscode": {
   "interpreter": {
    "hash": "26de051ba29f2982a8de78e945f0abaf191376122a1563185a90213a26c5da77"
   }
  }
 },
 "nbformat": 4,
 "nbformat_minor": 2
}
